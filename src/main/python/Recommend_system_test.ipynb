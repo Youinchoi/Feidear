{
 "cells": [
  {
   "cell_type": "code",
   "execution_count": 1,
   "id": "c2688c8f",
   "metadata": {},
   "outputs": [],
   "source": [
    "import pandas as pd\n",
    "import numpy as np\n",
    "from surprise import SVD, accuracy\n",
    "from surprise import Reader, Dataset"
   ]
  },
  {
   "cell_type": "code",
   "execution_count": 2,
   "id": "93bdf276",
   "metadata": {},
   "outputs": [
    {
     "name": "stderr",
     "output_type": "stream",
     "text": [
      "c:\\Users\\kosmo\\anaconda3\\lib\\site-packages\\pandas\\io\\sql.py:762: UserWarning: pandas only support SQLAlchemy connectable(engine/connection) ordatabase string URI or sqlite3 DBAPI2 connectionother DBAPI2 objects are not tested, please consider using SQLAlchemy\n",
      "  warnings.warn(\n"
     ]
    },
    {
     "data": {
      "text/html": [
       "<div>\n",
       "<style scoped>\n",
       "    .dataframe tbody tr th:only-of-type {\n",
       "        vertical-align: middle;\n",
       "    }\n",
       "\n",
       "    .dataframe tbody tr th {\n",
       "        vertical-align: top;\n",
       "    }\n",
       "\n",
       "    .dataframe thead th {\n",
       "        text-align: right;\n",
       "    }\n",
       "</style>\n",
       "<table border=\"1\" class=\"dataframe\">\n",
       "  <thead>\n",
       "    <tr style=\"text-align: right;\">\n",
       "      <th></th>\n",
       "      <th>u_id</th>\n",
       "      <th>r_fetv_name</th>\n",
       "      <th>r_fetv_est</th>\n",
       "    </tr>\n",
       "  </thead>\n",
       "  <tbody>\n",
       "    <tr>\n",
       "      <th>0</th>\n",
       "      <td>jungin</td>\n",
       "      <td>종로한복축제</td>\n",
       "      <td>4</td>\n",
       "    </tr>\n",
       "    <tr>\n",
       "      <th>1</th>\n",
       "      <td>jungin</td>\n",
       "      <td>제주왕벚꽃축제</td>\n",
       "      <td>2.5</td>\n",
       "    </tr>\n",
       "    <tr>\n",
       "      <th>2</th>\n",
       "      <td>jungin</td>\n",
       "      <td>국립생태원 반려식물 특별전(나와 지구, 모두의 힐링)</td>\n",
       "      <td>4.3</td>\n",
       "    </tr>\n",
       "    <tr>\n",
       "      <th>3</th>\n",
       "      <td>jungin</td>\n",
       "      <td>2022 제4회 양재플라워페스타</td>\n",
       "      <td>2.5</td>\n",
       "    </tr>\n",
       "    <tr>\n",
       "      <th>4</th>\n",
       "      <td>jungin</td>\n",
       "      <td>태안 백합꽃 정원</td>\n",
       "      <td>2.5</td>\n",
       "    </tr>\n",
       "  </tbody>\n",
       "</table>\n",
       "</div>"
      ],
      "text/plain": [
       "     u_id                    r_fetv_name r_fetv_est\n",
       "0  jungin                         종로한복축제          4\n",
       "1  jungin                       제주왕벚꽃축제         2.5\n",
       "2  jungin  국립생태원 반려식물 특별전(나와 지구, 모두의 힐링)        4.3\n",
       "3  jungin              2022 제4회 양재플라워페스타        2.5\n",
       "4  jungin                     태안 백합꽃 정원         2.5"
      ]
     },
     "execution_count": 2,
     "metadata": {},
     "output_type": "execute_result"
    }
   ],
   "source": [
    "def query_postgreSQL(query):\n",
    "     import pandas as pd\n",
    "     import psycopg2 as pg\n",
    "     from datetime import datetime\n",
    "    \n",
    "  \n",
    "\n",
    "    # DB Connection\n",
    "     conn = pg.connect(host=\"postgresql-feidear.alwaysdata.net\", dbname=\"feidear_data\", user=\"feidear_ji\",\n",
    "                            port=\"5432\",\n",
    "                            password=\"feidear1234\")\n",
    "    #  start_tm = datetime.now()\n",
    "\n",
    "     # Get a DataFrame\n",
    "\n",
    "     query_result = pd.read_sql(query, conn) # type: ignore \n",
    "     # Close connection\n",
    "     conn.close()\n",
    " \n",
    "     return query_result\n",
    "query = \"\"\"\n",
    "        SELECT *\n",
    "            FROM mldataset\n",
    "    \"\"\"\n",
    "\n",
    "rating = query_postgreSQL(query) # mldataset DB에 있는 정보를 dataframe으로 바꿈.\n",
    "rating = pd.DataFrame(rating, columns=[\"u_id\",\"r_fetv_name\",\"r_fetv_est\"])\n",
    "\n",
    "rating.head()"
   ]
  },
  {
   "cell_type": "code",
   "execution_count": 3,
   "id": "5e8cdb14",
   "metadata": {},
   "outputs": [
    {
     "data": {
      "text/html": [
       "<div>\n",
       "<style scoped>\n",
       "    .dataframe tbody tr th:only-of-type {\n",
       "        vertical-align: middle;\n",
       "    }\n",
       "\n",
       "    .dataframe tbody tr th {\n",
       "        vertical-align: top;\n",
       "    }\n",
       "\n",
       "    .dataframe thead th {\n",
       "        text-align: right;\n",
       "    }\n",
       "</style>\n",
       "<table border=\"1\" class=\"dataframe\">\n",
       "  <thead>\n",
       "    <tr style=\"text-align: right;\">\n",
       "      <th>r_fetv_name</th>\n",
       "      <th>2022 제4회 양재플라워페스타</th>\n",
       "      <th>국립생태원 반려식물 특별전(나와 지구, 모두의 힐링)</th>\n",
       "      <th>마티네 콘서트&lt;마술피리&gt;</th>\n",
       "      <th>부산자갈치축제</th>\n",
       "      <th>이월드 벚꽃축제 : 블라썸 피크닉</th>\n",
       "      <th>장군산 영평사 구절초꽃축제</th>\n",
       "      <th>제주왕벚꽃축제</th>\n",
       "      <th>종로한복축제</th>\n",
       "      <th>태안 백합꽃 정원</th>\n",
       "      <th>팔공산 벚꽃축제</th>\n",
       "    </tr>\n",
       "    <tr>\n",
       "      <th>u_id</th>\n",
       "      <th></th>\n",
       "      <th></th>\n",
       "      <th></th>\n",
       "      <th></th>\n",
       "      <th></th>\n",
       "      <th></th>\n",
       "      <th></th>\n",
       "      <th></th>\n",
       "      <th></th>\n",
       "      <th></th>\n",
       "    </tr>\n",
       "  </thead>\n",
       "  <tbody>\n",
       "    <tr>\n",
       "      <th>jungin</th>\n",
       "      <td>1</td>\n",
       "      <td>1</td>\n",
       "      <td>0</td>\n",
       "      <td>0</td>\n",
       "      <td>0</td>\n",
       "      <td>0</td>\n",
       "      <td>1</td>\n",
       "      <td>1</td>\n",
       "      <td>1</td>\n",
       "      <td>0</td>\n",
       "    </tr>\n",
       "    <tr>\n",
       "      <th>one1</th>\n",
       "      <td>0</td>\n",
       "      <td>0</td>\n",
       "      <td>1</td>\n",
       "      <td>1</td>\n",
       "      <td>1</td>\n",
       "      <td>1</td>\n",
       "      <td>0</td>\n",
       "      <td>0</td>\n",
       "      <td>0</td>\n",
       "      <td>1</td>\n",
       "    </tr>\n",
       "  </tbody>\n",
       "</table>\n",
       "</div>"
      ],
      "text/plain": [
       "r_fetv_name  2022 제4회 양재플라워페스타  국립생태원 반려식물 특별전(나와 지구, 모두의 힐링)  마티네 콘서트<마술피리>  \\\n",
       "u_id                                                                           \n",
       "jungin                       1                              1              0   \n",
       "one1                         0                              0              1   \n",
       "\n",
       "r_fetv_name  부산자갈치축제  이월드 벚꽃축제 : 블라썸 피크닉  장군산 영평사 구절초꽃축제   제주왕벚꽃축제   종로한복축제  \\\n",
       "u_id                                                                          \n",
       "jungin             0                   0                0         1       1   \n",
       "one1               1                   1                1         0       0   \n",
       "\n",
       "r_fetv_name  태안 백합꽃 정원   팔공산 벚꽃축제   \n",
       "u_id                                \n",
       "jungin                1          0  \n",
       "one1                  0          1  "
      ]
     },
     "execution_count": 3,
     "metadata": {},
     "output_type": "execute_result"
    }
   ],
   "source": [
    "rating['u_id'].value_counts()\n",
    "rating['r_fetv_name'].value_counts()\n",
    "\n",
    "# 평가한 적 없는 축제 가려냄\n",
    "tab=pd.crosstab(rating['u_id'], rating['r_fetv_name'])\n",
    "tab"
   ]
  },
  {
   "cell_type": "code",
   "execution_count": 4,
   "id": "60ed1359",
   "metadata": {},
   "outputs": [
    {
     "data": {
      "text/html": [
       "<div>\n",
       "<style scoped>\n",
       "    .dataframe tbody tr th:only-of-type {\n",
       "        vertical-align: middle;\n",
       "    }\n",
       "\n",
       "    .dataframe tbody tr th {\n",
       "        vertical-align: top;\n",
       "    }\n",
       "\n",
       "    .dataframe thead tr th {\n",
       "        text-align: left;\n",
       "    }\n",
       "\n",
       "    .dataframe thead tr:last-of-type th {\n",
       "        text-align: right;\n",
       "    }\n",
       "</style>\n",
       "<table border=\"1\" class=\"dataframe\">\n",
       "  <thead>\n",
       "    <tr>\n",
       "      <th></th>\n",
       "      <th colspan=\"10\" halign=\"left\">r_fetv_est</th>\n",
       "    </tr>\n",
       "    <tr>\n",
       "      <th>r_fetv_name</th>\n",
       "      <th>2022 제4회 양재플라워페스타</th>\n",
       "      <th>국립생태원 반려식물 특별전(나와 지구, 모두의 힐링)</th>\n",
       "      <th>마티네 콘서트&lt;마술피리&gt;</th>\n",
       "      <th>부산자갈치축제</th>\n",
       "      <th>이월드 벚꽃축제 : 블라썸 피크닉</th>\n",
       "      <th>장군산 영평사 구절초꽃축제</th>\n",
       "      <th>제주왕벚꽃축제</th>\n",
       "      <th>종로한복축제</th>\n",
       "      <th>태안 백합꽃 정원</th>\n",
       "      <th>팔공산 벚꽃축제</th>\n",
       "    </tr>\n",
       "    <tr>\n",
       "      <th>u_id</th>\n",
       "      <th></th>\n",
       "      <th></th>\n",
       "      <th></th>\n",
       "      <th></th>\n",
       "      <th></th>\n",
       "      <th></th>\n",
       "      <th></th>\n",
       "      <th></th>\n",
       "      <th></th>\n",
       "      <th></th>\n",
       "    </tr>\n",
       "  </thead>\n",
       "  <tbody>\n",
       "    <tr>\n",
       "      <th>jungin</th>\n",
       "      <td>2.5</td>\n",
       "      <td>4.3</td>\n",
       "      <td>NaN</td>\n",
       "      <td>NaN</td>\n",
       "      <td>NaN</td>\n",
       "      <td>NaN</td>\n",
       "      <td>2.5</td>\n",
       "      <td>4</td>\n",
       "      <td>2.5</td>\n",
       "      <td>NaN</td>\n",
       "    </tr>\n",
       "    <tr>\n",
       "      <th>one1</th>\n",
       "      <td>NaN</td>\n",
       "      <td>NaN</td>\n",
       "      <td>1.8</td>\n",
       "      <td>1</td>\n",
       "      <td>5</td>\n",
       "      <td>5</td>\n",
       "      <td>NaN</td>\n",
       "      <td>NaN</td>\n",
       "      <td>NaN</td>\n",
       "      <td>5</td>\n",
       "    </tr>\n",
       "  </tbody>\n",
       "</table>\n",
       "</div>"
      ],
      "text/plain": [
       "                   r_fetv_est                                              \\\n",
       "r_fetv_name 2022 제4회 양재플라워페스타 국립생태원 반려식물 특별전(나와 지구, 모두의 힐링) 마티네 콘서트<마술피리>   \n",
       "u_id                                                                        \n",
       "jungin                    2.5                           4.3           NaN   \n",
       "one1                      NaN                           NaN           1.8   \n",
       "\n",
       "                                                                        \\\n",
       "r_fetv_name 부산자갈치축제 이월드 벚꽃축제 : 블라썸 피크닉 장군산 영평사 구절초꽃축제  제주왕벚꽃축제  종로한복축제   \n",
       "u_id                                                                     \n",
       "jungin          NaN                NaN             NaN      2.5      4   \n",
       "one1              1                  5               5      NaN    NaN   \n",
       "\n",
       "                                  \n",
       "r_fetv_name 태안 백합꽃 정원  팔공산 벚꽃축제   \n",
       "u_id                              \n",
       "jungin             2.5       NaN  \n",
       "one1               NaN         5  "
      ]
     },
     "execution_count": 4,
     "metadata": {},
     "output_type": "execute_result"
    }
   ],
   "source": [
    "# 두 개의 집단변수를 가지고 나머지 rating을 그룹화\n",
    "rating_g = rating.groupby(['u_id', 'r_fetv_name'])\n",
    "rating_g.sum()\n",
    "tab = rating_g.sum().unstack() # 행렬구조로 변환\n",
    "tab"
   ]
  },
  {
   "cell_type": "code",
   "execution_count": 18,
   "id": "e57ff686",
   "metadata": {},
   "outputs": [
    {
     "name": "stdout",
     "output_type": "stream",
     "text": [
      "            r_fetv_name       \n",
      "r_fetv_est  마티네 콘서트<마술피리>         NaN\n",
      "            부산자갈치축제               NaN\n",
      "            이월드 벚꽃축제 : 블라썸 피크닉    NaN\n",
      "            장군산 영평사 구절초꽃축제        NaN\n",
      "            팔공산 벚꽃축제              NaN\n",
      "Name: jungin, dtype: object\n",
      "[('r_fetv_est', '마티네 콘서트<마술피리>'), ('r_fetv_est', '부산자갈치축제'), ('r_fetv_est', '이월드 벚꽃축제 : 블라썸 피크닉'), ('r_fetv_est', '장군산 영평사 구절초꽃축제 '), ('r_fetv_est', '팔공산 벚꽃축제 ')]\n",
      "----------------------------------------------------------------------------------------------------\n"
     ]
    },
    {
     "data": {
      "text/plain": [
       "['마티네 콘서트<마술피리>',\n",
       " '부산자갈치축제',\n",
       " '이월드 벚꽃축제 : 블라썸 피크닉',\n",
       " '장군산 영평사 구절초꽃축제 ',\n",
       " '팔공산 벚꽃축제 ']"
      ]
     },
     "execution_count": 18,
     "metadata": {},
     "output_type": "execute_result"
    }
   ],
   "source": [
    "temp = tab.loc['jungin'][ tab.loc['jungin'].isna() ]\n",
    "# print(temp)\n",
    "\n",
    "'''\n",
    "temp = tab[tab.isna()].loc['jungin'] # type: ignore\n",
    "print(temp)\n",
    "print('-'*100)\n",
    "'''\n",
    "temp = temp.index.to_list()\n",
    "# print(temp)\n",
    "# print('-'*100)\n",
    "\n",
    "res=[]\n",
    "for t in temp :\n",
    "    res.append(t[-1])\n",
    "res    "
   ]
  },
  {
   "cell_type": "code",
   "execution_count": 1,
   "id": "46089681",
   "metadata": {},
   "outputs": [
    {
     "ename": "NameError",
     "evalue": "name 'Reader' is not defined",
     "output_type": "error",
     "traceback": [
      "\u001b[1;31m---------------------------------------------------------------------------\u001b[0m",
      "\u001b[1;31mNameError\u001b[0m                                 Traceback (most recent call last)",
      "\u001b[1;32m~\\AppData\\Local\\Temp\\ipykernel_11432\\1881010541.py\u001b[0m in \u001b[0;36m<module>\u001b[1;34m\u001b[0m\n\u001b[0;32m      1\u001b[0m \u001b[1;31m#rating 데이터셋 생성\u001b[0m\u001b[1;33m\u001b[0m\u001b[1;33m\u001b[0m\u001b[0m\n\u001b[1;32m----> 2\u001b[1;33m \u001b[0mreader\u001b[0m \u001b[1;33m=\u001b[0m \u001b[0mReader\u001b[0m\u001b[1;33m(\u001b[0m\u001b[0mrating_scale\u001b[0m\u001b[1;33m=\u001b[0m\u001b[1;33m(\u001b[0m\u001b[1;36m1\u001b[0m\u001b[1;33m,\u001b[0m\u001b[1;36m5\u001b[0m\u001b[1;33m)\u001b[0m\u001b[1;33m)\u001b[0m\u001b[1;33m\u001b[0m\u001b[1;33m\u001b[0m\u001b[0m\n\u001b[0m\u001b[0;32m      3\u001b[0m \u001b[0mdata\u001b[0m \u001b[1;33m=\u001b[0m \u001b[0mDataset\u001b[0m\u001b[1;33m.\u001b[0m\u001b[0mload_from_df\u001b[0m\u001b[1;33m(\u001b[0m\u001b[0mdf\u001b[0m\u001b[1;33m=\u001b[0m\u001b[0mrating\u001b[0m\u001b[1;33m,\u001b[0m \u001b[0mreader\u001b[0m\u001b[1;33m=\u001b[0m\u001b[0mreader\u001b[0m\u001b[1;33m)\u001b[0m\u001b[1;33m\u001b[0m\u001b[1;33m\u001b[0m\u001b[0m\n\u001b[0;32m      4\u001b[0m \u001b[1;33m\u001b[0m\u001b[0m\n\u001b[0;32m      5\u001b[0m \u001b[0mdata\u001b[0m\u001b[1;33m\u001b[0m\u001b[1;33m\u001b[0m\u001b[0m\n",
      "\u001b[1;31mNameError\u001b[0m: name 'Reader' is not defined"
     ]
    }
   ],
   "source": [
    "#rating 데이터셋 생성\n",
    "reader = Reader(rating_scale=(1,5))\n",
    "data = Dataset.load_from_df(df=rating, reader=reader)\n",
    "\n",
    "data"
   ]
  },
  {
   "cell_type": "code",
   "execution_count": 20,
   "id": "086a35dd",
   "metadata": {},
   "outputs": [],
   "source": [
    "train = data.build_full_trainset() # 훈련셋\n",
    "test = train.build_testset() # 검정셋"
   ]
  },
  {
   "cell_type": "code",
   "execution_count": 21,
   "id": "a629b2b7",
   "metadata": {
    "collapsed": true
   },
   "outputs": [
    {
     "data": {
      "text/plain": [
       "<surprise.prediction_algorithms.matrix_factorization.SVD at 0x1a2bb14ef40>"
      ]
     },
     "execution_count": 21,
     "metadata": {},
     "output_type": "execute_result"
    }
   ],
   "source": [
    "# help(SVD)\n",
    "# 모델 생성\n",
    "model = SVD(n_factors=100, n_epochs=20, random_state=123)\n",
    "model.fit(train) # model 생성"
   ]
  },
  {
   "cell_type": "code",
   "execution_count": 22,
   "id": "2b944e35",
   "metadata": {},
   "outputs": [
    {
     "name": "stdout",
     "output_type": "stream",
     "text": [
      "Top 1 :: 팔공산 벚꽃축제 \n",
      "Top 2 :: 장군산 영평사 구절초꽃축제 \n",
      "Top 3 :: 이월드 벚꽃축제 : 블라썸 피크닉\n"
     ]
    }
   ],
   "source": [
    "# jungin 사용자에게 축제 추천\n",
    "user_id = 'jungin' # 추천대상자\n",
    "item_ids = res # 추천 대상 축제 리스트\n",
    "actual_rating = 0 # 실제 평점\n",
    "\n",
    "result = []\n",
    "for item_id in item_ids :\n",
    "    predict = model.predict(user_id, item_id, actual_rating)\n",
    "    #print(predict)\n",
    "    \n",
    "    #pred = np.sort(predict, axis=0)\n",
    "    #print(pred)\n",
    "    temp = [predict.uid, predict.iid, predict.est]\n",
    "    result.append(temp)\n",
    "result.sort(key=lambda x:(x[0], x[1]), reverse=True)\n",
    "\n",
    "num = 1\n",
    "for r in result[:3] :\n",
    "    print('Top',num,'::',r[1])\n",
    "    num+=1"
   ]
  },
  {
   "cell_type": "code",
   "execution_count": null,
   "id": "2c62690b",
   "metadata": {},
   "outputs": [],
   "source": []
  }
 ],
 "metadata": {
  "kernelspec": {
   "display_name": "base",
   "language": "python",
   "name": "python3"
  },
  "language_info": {
   "codemirror_mode": {
    "name": "ipython",
    "version": 3
   },
   "file_extension": ".py",
   "mimetype": "text/x-python",
   "name": "python",
   "nbconvert_exporter": "python",
   "pygments_lexer": "ipython3",
   "version": "3.9.13"
  },
  "vscode": {
   "interpreter": {
    "hash": "8bd2a6020bfdb8ae5e847d6dec6bf379cea8f626895094b5f7dfd7260012b61d"
   }
  }
 },
 "nbformat": 4,
 "nbformat_minor": 5
}
